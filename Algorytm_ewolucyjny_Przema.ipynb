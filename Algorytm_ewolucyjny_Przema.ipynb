{
 "cells": [
  {
   "cell_type": "markdown",
   "metadata": {},
   "source": [
    "Biblioteki"
   ]
  },
  {
   "cell_type": "code",
   "execution_count": 69,
   "metadata": {},
   "outputs": [],
   "source": [
    "import random\n",
    "import numpy as np"
   ]
  },
  {
   "cell_type": "markdown",
   "metadata": {},
   "source": [
    "Funkcje do optymalizacji"
   ]
  },
  {
   "cell_type": "code",
   "execution_count": 70,
   "metadata": {},
   "outputs": [],
   "source": [
    "def sphere_function(x):\n",
    "    return sum([xi**2 for xi in x])"
   ]
  },
  {
   "cell_type": "code",
   "execution_count": 71,
   "metadata": {},
   "outputs": [],
   "source": [
    "def ackley_function(x):\n",
    "    d = len(x)\n",
    "    sum1 = sum(x**2 for x in x)\n",
    "    sum2 = sum(np.cos(2 * np.pi * x) for x in x)\n",
    "    return -20.0 * np.exp(-0.2 * np.sqrt(0.5 * sum1)) - np.exp(0.5 * sum2) + np.e + 20"
   ]
  },
  {
   "cell_type": "code",
   "execution_count": 72,
   "metadata": {},
   "outputs": [],
   "source": [
    "def schwefel_function(x):\n",
    "    return -np.sum(x * np.sin(np.sqrt(np.abs(x))))"
   ]
  },
  {
   "cell_type": "code",
   "execution_count": 73,
   "metadata": {},
   "outputs": [],
   "source": [
    "def levy_function(x):\n",
    "    d = len(x)\n",
    "    w = [1 + (x[i] - 1) / 4 for i in range(d)]\n",
    "    term1 = (np.sin(np.pi * w[0])) ** 2\n",
    "    term2 = sum([(w[i] - 1) ** 2 * (1 + 10 * (np.sin(np.pi * w[i] + 1)) ** 2) for i in range(d - 1)])\n",
    "    term3 = (w[d - 1] - 1) ** 2 * (1 + (np.sin(2 * np.pi * w[d - 1])) ** 2)\n",
    "    return term1 + term2 + term3"
   ]
  },
  {
   "cell_type": "code",
   "execution_count": 74,
   "metadata": {},
   "outputs": [],
   "source": [
    "def perm_function(x, beta=10):\n",
    "    result = sum((i * (arg ** 2) ** beta) for i, arg in enumerate(x, start=1))\n",
    "    return result"
   ]
  },
  {
   "cell_type": "markdown",
   "metadata": {},
   "source": [
    "Funkcja inicjalizacji populacji"
   ]
  },
  {
   "cell_type": "code",
   "execution_count": 75,
   "metadata": {},
   "outputs": [],
   "source": [
    "def initialize_population(pop_size, dim):\n",
    "    return [[random.uniform(-5.12, 5.12) for _ in range(dim)] for _ in range(pop_size)]"
   ]
  },
  {
   "cell_type": "markdown",
   "metadata": {},
   "source": [
    "Funkcja Oceny osobników"
   ]
  },
  {
   "cell_type": "code",
   "execution_count": 76,
   "metadata": {},
   "outputs": [],
   "source": [
    "def fitness_function(individual, func_name):\n",
    "    if func_name == 'sphere_function':\n",
    "        return sphere_function(individual)\n",
    "    elif func_name == 'ackley_function':\n",
    "        return ackley_function(individual)\n",
    "    elif func_name == 'schwefel_function':\n",
    "        return schwefel_function(individual)\n",
    "    elif func_name == 'levy_function':\n",
    "        return levy_function(individual)\n",
    "    elif func_name == 'perm_function':\n",
    "        return perm_function(individual)"
   ]
  },
  {
   "cell_type": "markdown",
   "metadata": {},
   "source": [
    "Funkcja selekcji turniejowa"
   ]
  },
  {
   "cell_type": "code",
   "execution_count": 77,
   "metadata": {},
   "outputs": [],
   "source": [
    "def tournament_selection(population, fitness_scores, tournament_size):\n",
    "    selected_individuals = []\n",
    "    for _ in range(len(population)):\n",
    "        tournament_indices = random.sample(range(len(population)), tournament_size)\n",
    "        \n",
    "        tournament_fitness_scores = [fitness_scores[i] for i in tournament_indices]\n",
    "\n",
    "        winner_index = tournament_indices[np.argmin(tournament_fitness_scores)] # index wygranego poszczególnego turnieju\n",
    "\n",
    "        selected_individuals.append(population[winner_index]) # gotowa lista wygranych turniejów\n",
    "\n",
    "    return selected_individuals"
   ]
  },
  {
   "cell_type": "markdown",
   "metadata": {},
   "source": [
    "Funkcja krzyżowania"
   ]
  },
  {
   "cell_type": "code",
   "execution_count": 78,
   "metadata": {},
   "outputs": [],
   "source": [
    "def crossover(parent1, parent2):\n",
    "    crossover_point = random.randint(1, len(parent1) - 1)\n",
    "    child1 = np.concatenate((parent1[:crossover_point], parent2[crossover_point:]))\n",
    "    child2 = np.concatenate((parent2[:crossover_point], parent1[crossover_point:]))\n",
    "    return child1, child2"
   ]
  },
  {
   "cell_type": "markdown",
   "metadata": {},
   "source": [
    "Funkcja mutacji"
   ]
  },
  {
   "cell_type": "code",
   "execution_count": 79,
   "metadata": {},
   "outputs": [],
   "source": [
    "def mutate(individual, mutation_rate):\n",
    "    for i in range(len(individual)):\n",
    "        if random.random() < mutation_rate:\n",
    "            individual[i] = 1 - individual[i]\n",
    "    return individual"
   ]
  },
  {
   "cell_type": "markdown",
   "metadata": {},
   "source": [
    "Funkcja algorytmu ewolucji"
   ]
  },
  {
   "cell_type": "code",
   "execution_count": 80,
   "metadata": {},
   "outputs": [],
   "source": [
    "def evolutionary_algorithm(pop_size, dim, func_name, tournament_size, num_generations, mutation_rate):\n",
    "    population = initialize_population(pop_size, dim)\n",
    "    history = [population.copy()]  # Historia populacji dla wizualizacji\n",
    "    for _ in range(num_generations):\n",
    "        fitness_scores = [fitness_function(individual, func_name) for individual in population]\n",
    "\n",
    "        new_population = []\n",
    "        selected_individuals = tournament_selection(population, fitness_scores, tournament_size)\n",
    "        for _ in range(pop_size // 2):\n",
    "            parent1, parent2 = random.choices(selected_individuals, k=2)\n",
    "            child1, child2 = crossover(parent1, parent2)\n",
    "            child1 = mutate(child1, mutation_rate)\n",
    "            child2 = mutate(child2, mutation_rate)\n",
    "            new_population.extend([child1, child2])\n",
    "\n",
    "        population = new_population\n",
    "        history.append(population.copy())  # Dodanie nowego pokolenia do historii populacji\n",
    "\n",
    "    best_individual = min(population, key=lambda x: fitness_function(x, func_name))\n",
    "    return best_individual, fitness_function(best_individual, func_name), history"
   ]
  },
  {
   "cell_type": "markdown",
   "metadata": {},
   "source": [
    "Funkcja algorytmu ewolucji różnicowej*"
   ]
  },
  {
   "cell_type": "code",
   "execution_count": 81,
   "metadata": {},
   "outputs": [],
   "source": [
    "def differential_evolution(pop_size, dim, func_name, num_generations, mutation_factor, crossover_rate):\n",
    "    population = initialize_population(pop_size, dim)\n",
    "    history = [population.copy()]  # Historia populacji dla wizualizacji\n",
    "    for _ in range(num_generations):\n",
    "        for i in range(pop_size):\n",
    "            target_vector = population[i]\n",
    "            indices = [idx for idx in range(pop_size) if idx != i]\n",
    "            a, b, c = random.sample(indices, 3)\n",
    "            donor_vector = np.add(population[a], mutation_factor * (np.subtract(population[b], population[c])))\n",
    "            crossed_vector = []\n",
    "            for j in range(dim):\n",
    "                if random.random() < crossover_rate or j == random.randint(0, dim - 1):\n",
    "                    crossed_vector.append(donor_vector[j])\n",
    "                else:\n",
    "                    crossed_vector.append(target_vector[j])\n",
    "            if levy_function(crossed_vector) < levy_function(target_vector):\n",
    "                population[i] = crossed_vector\n",
    "        history.append(population.copy())  # Dodanie nowego pokolenia do historii populacji\n",
    "    best_individual = min(population, key=lambda x: levy_function(x))\n",
    "    return best_individual, levy_function(best_individual), history"
   ]
  },
  {
   "cell_type": "markdown",
   "metadata": {},
   "source": [
    "Main"
   ]
  },
  {
   "cell_type": "code",
   "execution_count": 82,
   "metadata": {},
   "outputs": [],
   "source": [
    "random.seed(1234)\n",
    "pop_size = 100  # rozmiar populacji\n",
    "dim = 3\n",
    "# random.randint(3, 49) # wymiary\n",
    "func_dict = {1: 'sphere_function', 2: 'ackley_function', 3: 'schwefel_function', 4: 'levy_function', 5: 'perm_function'}\n",
    "func_name = \"perm_function\" # wybor funkcji do optymalizacji\n",
    "tournament_size = 5\n",
    "num_generations = 10\n",
    "mutation_rate = 0.01\n",
    "mutation_factor = 0.5\n",
    "crossover_rate = 0.7"
   ]
  },
  {
   "cell_type": "markdown",
   "metadata": {},
   "source": [
    "Wywołanie funkcji"
   ]
  },
  {
   "cell_type": "code",
   "execution_count": 83,
   "metadata": {},
   "outputs": [
    {
     "name": "stdout",
     "output_type": "stream",
     "text": [
      "Najlepsze rozwiązanie: [0.00530222 0.49792591 0.06585989]\n",
      "Wartość funkcji celu dla najlepszego rozwiązania: 1.7551917296592564e-06\n"
     ]
    }
   ],
   "source": [
    "best_solution, best_fitness, history = evolutionary_algorithm(pop_size, dim, func_name, tournament_size, num_generations, mutation_rate)\n",
    "print(\"Najlepsze rozwiązanie:\", best_solution)\n",
    "print(\"Wartość funkcji celu dla najlepszego rozwiązania:\", best_fitness)"
   ]
  },
  {
   "cell_type": "code",
   "execution_count": 84,
   "metadata": {},
   "outputs": [
    {
     "name": "stdout",
     "output_type": "stream",
     "text": [
      "Najlepsze rozwiązanie: [1.025314109707028, 1.0517207411956508, 0.6159329240059579]\n",
      "Wartość funkcji celu dla najlepszego rozwiązania: 0.014324408857485902\n"
     ]
    }
   ],
   "source": [
    "best_solution, best_fitness, history = differential_evolution(pop_size, dim, func_name, num_generations, mutation_factor, crossover_rate)\n",
    "print(\"Najlepsze rozwiązanie:\", best_solution)\n",
    "print(\"Wartość funkcji celu dla najlepszego rozwiązania:\", best_fitness)"
   ]
  },
  {
   "cell_type": "code",
   "execution_count": 85,
   "metadata": {},
   "outputs": [],
   "source": [
    "# def sum_squares_function(x):\n",
    "#     return sum(i * xi**2 for i, xi in enumerate(x, start=1))\n",
    "# population = initialize_population(pop_size, dim)\n",
    "# for item in population:\n",
    "#     print(levy_function(item))"
   ]
  }
 ],
 "metadata": {
  "kernelspec": {
   "display_name": "Python 3",
   "language": "python",
   "name": "python3"
  },
  "language_info": {
   "codemirror_mode": {
    "name": "ipython",
    "version": 3
   },
   "file_extension": ".py",
   "mimetype": "text/x-python",
   "name": "python",
   "nbconvert_exporter": "python",
   "pygments_lexer": "ipython3",
   "version": "3.12.0"
  }
 },
 "nbformat": 4,
 "nbformat_minor": 2
}
